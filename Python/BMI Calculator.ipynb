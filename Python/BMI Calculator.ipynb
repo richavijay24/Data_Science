{
 "cells": [
  {
   "cell_type": "code",
   "execution_count": null,
   "id": "e0e733ff",
   "metadata": {},
   "outputs": [],
   "source": [
    "#Make BMI Calculator\n",
    "name = input('Enter your name : ') \n",
    "weight = int(input('Enter you weight in pounds: '))\n",
    "height = int(input('Enter your height in inch: '))\n",
    "BMI =  (weight * 703 )/ (height * height)\n",
    "print(BMI)\n",
    "\n"
   ]
  },
  {
   "cell_type": "code",
   "execution_count": null,
   "id": "20bbb9b8",
   "metadata": {},
   "outputs": [],
   "source": [
    "#Under 18.5\tUnderweight\tMinimal\n",
    "#18.5 - 24.9\tNormal Weight\tMinimal\n",
    "#25 - 29.9\tOverweight\tIncreased\n",
    "#30 - 34.9\tObese\tHigh\n",
    "#35 - 39.9\tSeverely Obese\tVery High\n",
    "#40 and over\tMorbidly Obese\tExtremely High "
   ]
  },
  {
   "cell_type": "code",
   "execution_count": null,
   "id": "2cd41ad6",
   "metadata": {},
   "outputs": [],
   "source": [
    "if BMI > 0 :\n",
    "    if(BMI < 18.5):\n",
    "        print(name + \", You are Under weight.\")\n",
    "    elif(BMI <= 24.9):\n",
    "        print(name +\", You are Normal Weight\")\n",
    "    elif(BMI <= 29.9):\n",
    "        print(name + \", You are Over Weight\")\n",
    "    elif(BMI <= 34.9):\n",
    "        print(name + \", You are Obese\")\n",
    "    elif(BMI <= 39.9):\n",
    "        print(name + \", You are Severely Obese\")\n",
    "    elif(BMI > 40):\n",
    "        print(name + \", You are Morbidly Obese\")\n",
    "    else:\n",
    "        print(\"Enter Valid Input\")"
   ]
  }
 ],
 "metadata": {
  "kernelspec": {
   "display_name": "Python 3 (ipykernel)",
   "language": "python",
   "name": "python3"
  },
  "language_info": {
   "codemirror_mode": {
    "name": "ipython",
    "version": 3
   },
   "file_extension": ".py",
   "mimetype": "text/x-python",
   "name": "python",
   "nbconvert_exporter": "python",
   "pygments_lexer": "ipython3",
   "version": "3.9.13"
  }
 },
 "nbformat": 4,
 "nbformat_minor": 5
}
